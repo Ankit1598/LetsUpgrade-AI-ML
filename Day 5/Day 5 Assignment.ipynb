{
 "cells": [
  {
   "cell_type": "markdown",
   "metadata": {},
   "source": [
    "# 1)"
   ]
  },
  {
   "cell_type": "code",
   "execution_count": 1,
   "metadata": {},
   "outputs": [
    {
     "name": "stdout",
     "output_type": "stream",
     "text": [
      "First 20 non-even prime natural numbers are: \n",
      "3 5 7 11 13 17 19 23 29 31 37 41 43 47 53 59 61 67 71 73\n"
     ]
    }
   ],
   "source": [
    "print(f'First 20 non-even prime natural numbers are: ')\n",
    "num = 2\n",
    "odd_prime = []\n",
    "while len(odd_prime) != 20:\n",
    "    if num % 2 != 0:\n",
    "        for i in range(2, num//2 + 2):\n",
    "            if num % i == 0:\n",
    "                break\n",
    "            elif i == num//2 + 1:\n",
    "                odd_prime.append(num)\n",
    "    num += 1\n",
    "print(*odd_prime)"
   ]
  },
  {
   "cell_type": "markdown",
   "metadata": {},
   "source": [
    "# 2) "
   ]
  },
  {
   "cell_type": "code",
   "execution_count": 2,
   "metadata": {},
   "outputs": [
    {
     "name": "stdout",
     "output_type": "stream",
     "text": [
      "len(): 13\n",
      "title(): Let'S Upgrade\n",
      "lower(): let's upgrade\n",
      "upper(): LET'S UPGRADE\n",
      "swapcase(): lET'S uPGRADE\n",
      "casefold(): let's upgrade\n",
      "replace(): Let'z Upgrade\n",
      "join(): Let's_Upgrade\n",
      "split(): [\"Let's\", 'Upgrade']\n",
      "find(): 6\n",
      "count(): 2\n",
      "partition(): (\"Let's\", ' ', 'Upgrade')\n",
      "islower(): False\n",
      "center(): ___Let's Upgrade____\n",
      "isalpha(): False\n"
     ]
    }
   ],
   "source": [
    "txt = \"Let's Upgrade\"\n",
    "\n",
    "print(f'len(): {len(txt)}')\n",
    "print(f'title(): {txt.title()}')\n",
    "print(f'lower(): {txt.lower()}')\n",
    "print(f'upper(): {txt.upper()}')\n",
    "print(f'swapcase(): {txt.swapcase()}')\n",
    "print(f'casefold(): {txt.casefold()}')\n",
    "print(f'replace(): {txt.replace(\"s\", \"z\")}')\n",
    "print(f'join(): {\"_\".join(txt.split())}')\n",
    "print(f'split(): {txt.split()}')\n",
    "print(f'find(): {txt.find(\"Up\")}')\n",
    "print(f'count(): {txt.count(\"e\")}')\n",
    "print(f'partition(): {txt.partition(\" \")}')\n",
    "print(f'islower(): {txt.islower()}')\n",
    "print(f'center(): {txt.center(20, \"_\")}')\n",
    "print(f'isalpha(): {txt.isalpha()}')"
   ]
  },
  {
   "cell_type": "markdown",
   "metadata": {},
   "source": [
    "# 3)\n"
   ]
  },
  {
   "cell_type": "code",
   "execution_count": 3,
   "metadata": {},
   "outputs": [
    {
     "name": "stdout",
     "output_type": "stream",
     "text": [
      "'madam' is Palindrome\n",
      "'palindrome' and 'Ireland mop' are Anagram\n",
      "'soap' and 'pause' are neither Anagram nor 'soap' is Palindrome\n"
     ]
    }
   ],
   "source": [
    "def check(txt, txt2):\n",
    "    if txt == txt[::-1]:\n",
    "        print(f\"\\'{txt}\\' is Palindrome\")\n",
    "    elif sorted(txt) == sorted(txt2.lower().replace(' ', '')):\n",
    "        print(f\"\\'{txt}\\' and \\'{txt2}\\' are Anagram\")\n",
    "    else:\n",
    "        print(f\"\\'{txt}\\' and \\'{txt2}\\' are neither Anagram nor \\'{txt}\\' is Palindrome\")\n",
    "\n",
    "\n",
    "check('madam', 'mama')\n",
    "check('palindrome', 'Ireland mop')\n",
    "check('soap', 'pause')"
   ]
  },
  {
   "cell_type": "markdown",
   "metadata": {},
   "source": [
    "# 4)"
   ]
  },
  {
   "cell_type": "code",
   "execution_count": 4,
   "metadata": {},
   "outputs": [
    {
     "name": "stdout",
     "output_type": "stream",
     "text": [
      "drdarshaningleaimltrainer"
     ]
    }
   ],
   "source": [
    "string = 'Dr. Darshan Ingle @AI-ML Trainer'\n",
    "\n",
    "\n",
    "def remover(txt):\n",
    "    for i in txt.lower():\n",
    "        if i.isalpha():\n",
    "            print(i, end='')\n",
    "\n",
    "\n",
    "remover(string)"
   ]
  }
 ],
 "metadata": {
  "kernelspec": {
   "display_name": "Python 3",
   "language": "python",
   "name": "python3"
  },
  "language_info": {
   "codemirror_mode": {
    "name": "ipython",
    "version": 3
   },
   "file_extension": ".py",
   "mimetype": "text/x-python",
   "name": "python",
   "nbconvert_exporter": "python",
   "pygments_lexer": "ipython3",
   "version": "3.7.2"
  },
  "toc": {
   "base_numbering": 1,
   "nav_menu": {},
   "number_sections": true,
   "sideBar": true,
   "skip_h1_title": true,
   "title_cell": "Table of Contents",
   "title_sidebar": "Contents",
   "toc_cell": false,
   "toc_position": {},
   "toc_section_display": true,
   "toc_window_display": false
  },
  "varInspector": {
   "cols": {
    "lenName": 16,
    "lenType": 16,
    "lenVar": 40
   },
   "kernels_config": {
    "python": {
     "delete_cmd_postfix": "",
     "delete_cmd_prefix": "del ",
     "library": "var_list.py",
     "varRefreshCmd": "print(var_dic_list())"
    },
    "r": {
     "delete_cmd_postfix": ") ",
     "delete_cmd_prefix": "rm(",
     "library": "var_list.r",
     "varRefreshCmd": "cat(var_dic_list()) "
    }
   },
   "types_to_exclude": [
    "module",
    "function",
    "builtin_function_or_method",
    "instance",
    "_Feature"
   ],
   "window_display": false
  }
 },
 "nbformat": 4,
 "nbformat_minor": 4
}
