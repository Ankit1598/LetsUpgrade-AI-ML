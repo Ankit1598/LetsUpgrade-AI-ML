{
 "cells": [
  {
   "cell_type": "markdown",
   "metadata": {},
   "source": [
    "# 1)"
   ]
  },
  {
   "cell_type": "code",
   "execution_count": 1,
   "metadata": {},
   "outputs": [
    {
     "name": "stdout",
     "output_type": "stream",
     "text": [
      "Enter your email address: john@google.com\n",
      "Company name is: google\n"
     ]
    }
   ],
   "source": [
    "email = input('Enter your email address: ')\n",
    "company = email.split('@')[1].split('.')[0]\n",
    "print(f'Company name is: {company}')"
   ]
  },
  {
   "cell_type": "markdown",
   "metadata": {},
   "source": [
    "# 2) "
   ]
  },
  {
   "cell_type": "code",
   "execution_count": 2,
   "metadata": {},
   "outputs": [
    {
     "name": "stdout",
     "output_type": "stream",
     "text": [
      "Enter the words: world,letsupgrade,hello,aiml\n",
      "aiml,hello,letsupgrade,world\n"
     ]
    }
   ],
   "source": [
    "words = input('Enter the words: ').split(',')\n",
    "words.sort()\n",
    "words_sorted = ','.join(i for i in words)\n",
    "print(words_sorted)"
   ]
  },
  {
   "cell_type": "markdown",
   "metadata": {},
   "source": [
    "# 3)"
   ]
  },
  {
   "cell_type": "markdown",
   "metadata": {},
   "source": [
    "###  Sets\n",
    "\n",
    "- A set is an unordered collection of iterable data which has no duplicate element and is also mutable\n",
    "\n",
    "- Since set is unordered and unindexed, the elements of a set cannot be accessed by their indexes, but as set has iterable data the elements can be accessed using a **for** loop\n",
    "\n",
    "- The elements of the set cannot be edited but new elements can be added into the set using the following methods:\n",
    "    - **add()** is used to add single element\n",
    "    - **update()** is used to add multiple elements\n",
    "    \n",
    "- The elements can be removed from the sets using the following methods:\n",
    "    - **remove()**\n",
    "    - **discard()**\n",
    "    > The difference between these methods is that if the element the user wants to remove is not present in the set **remove()** raises an error where as **discard()** doesn't\n",
    "    \n",
    "- As set being unordered when we use **pop()** method we cannot predict which element is being poped out\n",
    "\n",
    "- **clear()** can be used to empty the set and **del** can be used to delete the set completely\n",
    "\n",
    "- Set class represents the mathematical notion of a set which allows the user to perform the basic mathematical operations of a set namely, **symmetric_difference()**, **union()**, **intersection()**, **difference()**, **isdisjoint()**\n",
    "\n",
    "- Similarly **copy()**, **issubset()**, **issuperset()** can be used on a set"
   ]
  },
  {
   "cell_type": "markdown",
   "metadata": {},
   "source": [
    "# 4) "
   ]
  },
  {
   "cell_type": "code",
   "execution_count": 3,
   "metadata": {},
   "outputs": [
    {
     "name": "stdout",
     "output_type": "stream",
     "text": [
      "1 2 3 4 5 6 7 9 10 11 12 13 14 15\n",
      "8\n"
     ]
    }
   ],
   "source": [
    "nums = set([int(i) for i in input().split()])\n",
    "full = set([i for i in range(1, max(nums)+1)])\n",
    "print(*(nums ^ full))"
   ]
  },
  {
   "cell_type": "markdown",
   "metadata": {},
   "source": [
    "# 5) "
   ]
  },
  {
   "cell_type": "code",
   "execution_count": 4,
   "metadata": {},
   "outputs": [
    {
     "name": "stdout",
     "output_type": "stream",
     "text": [
      "42 6542 642 6842 642 684 62 682 20 642 1530\n",
      "42 6542 642 6842 684 62 682 20 1530\n"
     ]
    }
   ],
   "source": [
    "nums = [int(i) for i in input().split()]\n",
    "print(*sorted(set(nums), key = nums.index))"
   ]
  }
 ],
 "metadata": {
  "kernelspec": {
   "display_name": "Python 3",
   "language": "python",
   "name": "python3"
  },
  "language_info": {
   "codemirror_mode": {
    "name": "ipython",
    "version": 3
   },
   "file_extension": ".py",
   "mimetype": "text/x-python",
   "name": "python",
   "nbconvert_exporter": "python",
   "pygments_lexer": "ipython3",
   "version": "3.7.2"
  },
  "toc": {
   "base_numbering": 1,
   "nav_menu": {},
   "number_sections": false,
   "sideBar": true,
   "skip_h1_title": true,
   "title_cell": "Table of Contents",
   "title_sidebar": "Contents",
   "toc_cell": false,
   "toc_position": {
    "height": "calc(100% - 180px)",
    "left": "10px",
    "top": "150px",
    "width": "170.486px"
   },
   "toc_section_display": true,
   "toc_window_display": false
  },
  "varInspector": {
   "cols": {
    "lenName": 16,
    "lenType": 16,
    "lenVar": 40
   },
   "kernels_config": {
    "python": {
     "delete_cmd_postfix": "",
     "delete_cmd_prefix": "del ",
     "library": "var_list.py",
     "varRefreshCmd": "print(var_dic_list())"
    },
    "r": {
     "delete_cmd_postfix": ") ",
     "delete_cmd_prefix": "rm(",
     "library": "var_list.r",
     "varRefreshCmd": "cat(var_dic_list()) "
    }
   },
   "types_to_exclude": [
    "module",
    "function",
    "builtin_function_or_method",
    "instance",
    "_Feature"
   ],
   "window_display": false
  }
 },
 "nbformat": 4,
 "nbformat_minor": 4
}
