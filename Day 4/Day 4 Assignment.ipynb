{
 "cells": [
  {
   "cell_type": "markdown",
   "metadata": {
    "hide_input": false
   },
   "source": [
    "# 1) Research on whether addition, subtraction, multiplicatio, division, floor division and modulo operations be performed on complex numbers. Based on your study, implement a python program to demonstrate these operations"
   ]
  },
  {
   "cell_type": "code",
   "execution_count": 1,
   "metadata": {},
   "outputs": [
    {
     "name": "stdout",
     "output_type": "stream",
     "text": [
      "Addition of (5+10j) and (10+20j) complex numbers :  (8+3j)\n",
      "Subtraction of (5+10j) and (10+20j) complex numbers :  (2+17j)\n",
      "Multiplication of (5+10j) and (10+20j) complex numbers :  (85-5j)\n",
      "Division of (5+10j) and (10+20j) complex numbers :  (-0.9482758620689657+1.1206896551724137j)\n"
     ]
    }
   ],
   "source": [
    "num1 = 5 + 10j\n",
    "num2 = 10 + 20j\n",
    "\n",
    "print(f\"Addition of {num1} and {num2} complex numbers : \",num1+(3-7j))\n",
    "print(f\"Subtraction of {num1} and {num2} complex numbers : \",num1-(3-7j))\n",
    "print(f\"Multiplication of {num1} and {num2} complex numbers : \",num1*(3-7j))\n",
    "print(f\"Division of {num1} and {num2} complex numbers : \",num1/(3-7j))"
   ]
  },
  {
   "cell_type": "markdown",
   "metadata": {},
   "source": [
    "# 2) Research on range() function and its parameters. Create a markdown cell and write in you own words (no copy-paste from google please) what you understand about it. Implement a small program of your choice on the same."
   ]
  },
  {
   "cell_type": "markdown",
   "metadata": {},
   "source": [
    "> Syntax:\n",
    "\n",
    "    range(start, stop[,step])\n",
    "        start: starting number / lower limit\n",
    "        stop: ending value / upper  limit(this value is excluded)\n",
    "        step: it is the difference between each number in the result \n",
    "                sequence\n",
    "    "
   ]
  },
  {
   "cell_type": "code",
   "execution_count": 2,
   "metadata": {},
   "outputs": [
    {
     "name": "stdout",
     "output_type": "stream",
     "text": [
      "Generating a range of numbers from 0 to 100 divisible by 3 using range() function.\n",
      "3\n",
      "6\n",
      "9\n",
      "12\n",
      "15\n",
      "18\n",
      "21\n",
      "24\n",
      "27\n",
      "30\n",
      "33\n",
      "36\n",
      "39\n",
      "42\n",
      "45\n",
      "48\n",
      "51\n",
      "54\n",
      "57\n",
      "60\n",
      "63\n",
      "66\n",
      "69\n",
      "72\n",
      "75\n",
      "78\n",
      "81\n",
      "84\n",
      "87\n",
      "90\n",
      "93\n",
      "96\n",
      "99\n"
     ]
    }
   ],
   "source": [
    "print(\"Generating a range of numbers from 0 to 100 divisible by 3 using range() function.\")\n",
    "for i in range(3, 100, 3):\n",
    "    print(i)"
   ]
  },
  {
   "cell_type": "markdown",
   "metadata": {},
   "source": [
    "# 3) Consider two numbers. Perform their subtraction and if result of subtraction is greater than 25, print their multiplication result else print their divisin result"
   ]
  },
  {
   "cell_type": "code",
   "execution_count": 3,
   "metadata": {},
   "outputs": [
    {
     "name": "stdout",
     "output_type": "stream",
     "text": [
      "Multiplication of 432 and 326 is 140832\n"
     ]
    }
   ],
   "source": [
    "num1 = 432\n",
    "num2 = 326\n",
    "\n",
    "if num1 - num2 > 25:\n",
    "    print(f\"Multiplication of {num1} and {num2} is {num1 * num2}\")\n",
    "else:\n",
    "    print(f\"Division of {num1} and {num2} is {num1 / num2}\")"
   ]
  },
  {
   "cell_type": "markdown",
   "metadata": {},
   "source": [
    "# 4) Consider a list of 10 elements of integer values. if the number in the list is divisible by 2, print the result as \"square of that number minus 2\""
   ]
  },
  {
   "cell_type": "code",
   "execution_count": 4,
   "metadata": {},
   "outputs": [
    {
     "name": "stdout",
     "output_type": "stream",
     "text": [
      "Square of 2 minus 2 is: 2\n",
      "Square of 4 minus 2 is: 14\n",
      "Square of 6 minus 2 is: 34\n",
      "Square of 8 minus 2 is: 62\n",
      "Square of 10 minus 2 is: 98\n"
     ]
    }
   ],
   "source": [
    "lst = [1, 2, 3, 4, 5, 6, 7, 8, 9, 10]\n",
    "for i in lst:\n",
    "    if i % 2 == 0:\n",
    "        print(f\"Square of {i} minus 2 is: {i**2-2}\")"
   ]
  },
  {
   "cell_type": "markdown",
   "metadata": {},
   "source": [
    "# 5) Consider a list of 10 elements. Print all the elements in the list which are greater than 7 when that number is divided by 2"
   ]
  },
  {
   "cell_type": "code",
   "execution_count": 5,
   "metadata": {},
   "outputs": [
    {
     "name": "stdout",
     "output_type": "stream",
     "text": [
      "Elements in the list which are greater than 7 when that number is divided by 2: \n",
      "63\n",
      "21\n",
      "81\n",
      "31\n",
      "21\n",
      "41\n",
      "20\n"
     ]
    }
   ],
   "source": [
    "lst = [63, 21, 6, 81, 31, 21, 41, 5, 14, 20]\n",
    "print(\"Elements in the list which are greater than 7 when that number is divided by 2: \")\n",
    "for i in lst:\n",
    "    if i/2 > 7:\n",
    "        print(i)"
   ]
  }
 ],
 "metadata": {
  "hide_input": false,
  "kernelspec": {
   "display_name": "Python 3",
   "language": "python",
   "name": "python3"
  },
  "language_info": {
   "codemirror_mode": {
    "name": "ipython",
    "version": 3
   },
   "file_extension": ".py",
   "mimetype": "text/x-python",
   "name": "python",
   "nbconvert_exporter": "python",
   "pygments_lexer": "ipython3",
   "version": "3.7.2"
  },
  "toc": {
   "base_numbering": 1,
   "nav_menu": {},
   "number_sections": false,
   "sideBar": true,
   "skip_h1_title": false,
   "title_cell": "Table of Contents",
   "title_sidebar": "Contents",
   "toc_cell": false,
   "toc_position": {},
   "toc_section_display": true,
   "toc_window_display": false
  },
  "varInspector": {
   "cols": {
    "lenName": 16,
    "lenType": 16,
    "lenVar": 40
   },
   "kernels_config": {
    "python": {
     "delete_cmd_postfix": "",
     "delete_cmd_prefix": "del ",
     "library": "var_list.py",
     "varRefreshCmd": "print(var_dic_list())"
    },
    "r": {
     "delete_cmd_postfix": ") ",
     "delete_cmd_prefix": "rm(",
     "library": "var_list.r",
     "varRefreshCmd": "cat(var_dic_list()) "
    }
   },
   "oldHeight": 122.4,
   "position": {
    "height": "144px",
    "left": "1166px",
    "right": "20px",
    "top": "120px",
    "width": "350px"
   },
   "types_to_exclude": [
    "module",
    "function",
    "builtin_function_or_method",
    "instance",
    "_Feature"
   ],
   "varInspector_section_display": "block",
   "window_display": false
  }
 },
 "nbformat": 4,
 "nbformat_minor": 4
}
