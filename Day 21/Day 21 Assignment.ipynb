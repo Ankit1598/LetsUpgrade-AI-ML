{
 "cells": [
  {
   "cell_type": "code",
   "execution_count": 1,
   "metadata": {},
   "outputs": [],
   "source": [
    "import numpy as np\n",
    "import pandas as pd\n",
    "import matplotlib.pyplot as plt\n",
    "import seaborn as sns\n",
    "\n",
    "from sklearn.preprocessing import LabelEncoder\n",
    "from sklearn.model_selection import train_test_split\n",
    "from sklearn.linear_model import LinearRegression\n",
    "from sklearn.metrics import mean_squared_error, r2_score\n",
    "\n",
    "import statsmodels.api as sm"
   ]
  },
  {
   "cell_type": "markdown",
   "metadata": {},
   "source": [
    "# Logistic Regression on Attrition Problem"
   ]
  },
  {
   "cell_type": "code",
   "execution_count": 2,
   "metadata": {},
   "outputs": [],
   "source": [
    "df1 = pd.read_csv(\"./datasets/general_data.csv\") "
   ]
  },
  {
   "cell_type": "code",
   "execution_count": 3,
   "metadata": {},
   "outputs": [
    {
     "data": {
      "text/html": [
       "<div>\n",
       "<style scoped>\n",
       "    .dataframe tbody tr th:only-of-type {\n",
       "        vertical-align: middle;\n",
       "    }\n",
       "\n",
       "    .dataframe tbody tr th {\n",
       "        vertical-align: top;\n",
       "    }\n",
       "\n",
       "    .dataframe thead th {\n",
       "        text-align: right;\n",
       "    }\n",
       "</style>\n",
       "<table border=\"1\" class=\"dataframe\">\n",
       "  <thead>\n",
       "    <tr style=\"text-align: right;\">\n",
       "      <th></th>\n",
       "      <th>Age</th>\n",
       "      <th>Attrition</th>\n",
       "      <th>BusinessTravel</th>\n",
       "      <th>Department</th>\n",
       "      <th>DistanceFromHome</th>\n",
       "      <th>Education</th>\n",
       "      <th>EducationField</th>\n",
       "      <th>EmployeeCount</th>\n",
       "      <th>EmployeeID</th>\n",
       "      <th>Gender</th>\n",
       "      <th>...</th>\n",
       "      <th>NumCompaniesWorked</th>\n",
       "      <th>Over18</th>\n",
       "      <th>PercentSalaryHike</th>\n",
       "      <th>StandardHours</th>\n",
       "      <th>StockOptionLevel</th>\n",
       "      <th>TotalWorkingYears</th>\n",
       "      <th>TrainingTimesLastYear</th>\n",
       "      <th>YearsAtCompany</th>\n",
       "      <th>YearsSinceLastPromotion</th>\n",
       "      <th>YearsWithCurrManager</th>\n",
       "    </tr>\n",
       "  </thead>\n",
       "  <tbody>\n",
       "    <tr>\n",
       "      <th>0</th>\n",
       "      <td>51</td>\n",
       "      <td>No</td>\n",
       "      <td>Travel_Rarely</td>\n",
       "      <td>Sales</td>\n",
       "      <td>6</td>\n",
       "      <td>2</td>\n",
       "      <td>Life Sciences</td>\n",
       "      <td>1</td>\n",
       "      <td>1</td>\n",
       "      <td>Female</td>\n",
       "      <td>...</td>\n",
       "      <td>1.0</td>\n",
       "      <td>Y</td>\n",
       "      <td>11</td>\n",
       "      <td>8</td>\n",
       "      <td>0</td>\n",
       "      <td>1.0</td>\n",
       "      <td>6</td>\n",
       "      <td>1</td>\n",
       "      <td>0</td>\n",
       "      <td>0</td>\n",
       "    </tr>\n",
       "    <tr>\n",
       "      <th>1</th>\n",
       "      <td>31</td>\n",
       "      <td>Yes</td>\n",
       "      <td>Travel_Frequently</td>\n",
       "      <td>Research &amp; Development</td>\n",
       "      <td>10</td>\n",
       "      <td>1</td>\n",
       "      <td>Life Sciences</td>\n",
       "      <td>1</td>\n",
       "      <td>2</td>\n",
       "      <td>Female</td>\n",
       "      <td>...</td>\n",
       "      <td>0.0</td>\n",
       "      <td>Y</td>\n",
       "      <td>23</td>\n",
       "      <td>8</td>\n",
       "      <td>1</td>\n",
       "      <td>6.0</td>\n",
       "      <td>3</td>\n",
       "      <td>5</td>\n",
       "      <td>1</td>\n",
       "      <td>4</td>\n",
       "    </tr>\n",
       "    <tr>\n",
       "      <th>2</th>\n",
       "      <td>32</td>\n",
       "      <td>No</td>\n",
       "      <td>Travel_Frequently</td>\n",
       "      <td>Research &amp; Development</td>\n",
       "      <td>17</td>\n",
       "      <td>4</td>\n",
       "      <td>Other</td>\n",
       "      <td>1</td>\n",
       "      <td>3</td>\n",
       "      <td>Male</td>\n",
       "      <td>...</td>\n",
       "      <td>1.0</td>\n",
       "      <td>Y</td>\n",
       "      <td>15</td>\n",
       "      <td>8</td>\n",
       "      <td>3</td>\n",
       "      <td>5.0</td>\n",
       "      <td>2</td>\n",
       "      <td>5</td>\n",
       "      <td>0</td>\n",
       "      <td>3</td>\n",
       "    </tr>\n",
       "    <tr>\n",
       "      <th>3</th>\n",
       "      <td>38</td>\n",
       "      <td>No</td>\n",
       "      <td>Non-Travel</td>\n",
       "      <td>Research &amp; Development</td>\n",
       "      <td>2</td>\n",
       "      <td>5</td>\n",
       "      <td>Life Sciences</td>\n",
       "      <td>1</td>\n",
       "      <td>4</td>\n",
       "      <td>Male</td>\n",
       "      <td>...</td>\n",
       "      <td>3.0</td>\n",
       "      <td>Y</td>\n",
       "      <td>11</td>\n",
       "      <td>8</td>\n",
       "      <td>3</td>\n",
       "      <td>13.0</td>\n",
       "      <td>5</td>\n",
       "      <td>8</td>\n",
       "      <td>7</td>\n",
       "      <td>5</td>\n",
       "    </tr>\n",
       "    <tr>\n",
       "      <th>4</th>\n",
       "      <td>32</td>\n",
       "      <td>No</td>\n",
       "      <td>Travel_Rarely</td>\n",
       "      <td>Research &amp; Development</td>\n",
       "      <td>10</td>\n",
       "      <td>1</td>\n",
       "      <td>Medical</td>\n",
       "      <td>1</td>\n",
       "      <td>5</td>\n",
       "      <td>Male</td>\n",
       "      <td>...</td>\n",
       "      <td>4.0</td>\n",
       "      <td>Y</td>\n",
       "      <td>12</td>\n",
       "      <td>8</td>\n",
       "      <td>2</td>\n",
       "      <td>9.0</td>\n",
       "      <td>2</td>\n",
       "      <td>6</td>\n",
       "      <td>0</td>\n",
       "      <td>4</td>\n",
       "    </tr>\n",
       "  </tbody>\n",
       "</table>\n",
       "<p>5 rows × 24 columns</p>\n",
       "</div>"
      ],
      "text/plain": [
       "   Age Attrition     BusinessTravel              Department  DistanceFromHome  \\\n",
       "0   51        No      Travel_Rarely                   Sales                 6   \n",
       "1   31       Yes  Travel_Frequently  Research & Development                10   \n",
       "2   32        No  Travel_Frequently  Research & Development                17   \n",
       "3   38        No         Non-Travel  Research & Development                 2   \n",
       "4   32        No      Travel_Rarely  Research & Development                10   \n",
       "\n",
       "   Education EducationField  EmployeeCount  EmployeeID  Gender  ...  \\\n",
       "0          2  Life Sciences              1           1  Female  ...   \n",
       "1          1  Life Sciences              1           2  Female  ...   \n",
       "2          4          Other              1           3    Male  ...   \n",
       "3          5  Life Sciences              1           4    Male  ...   \n",
       "4          1        Medical              1           5    Male  ...   \n",
       "\n",
       "   NumCompaniesWorked Over18 PercentSalaryHike  StandardHours  \\\n",
       "0                 1.0      Y                11              8   \n",
       "1                 0.0      Y                23              8   \n",
       "2                 1.0      Y                15              8   \n",
       "3                 3.0      Y                11              8   \n",
       "4                 4.0      Y                12              8   \n",
       "\n",
       "   StockOptionLevel TotalWorkingYears  TrainingTimesLastYear  YearsAtCompany  \\\n",
       "0                 0               1.0                      6               1   \n",
       "1                 1               6.0                      3               5   \n",
       "2                 3               5.0                      2               5   \n",
       "3                 3              13.0                      5               8   \n",
       "4                 2               9.0                      2               6   \n",
       "\n",
       "   YearsSinceLastPromotion  YearsWithCurrManager  \n",
       "0                        0                     0  \n",
       "1                        1                     4  \n",
       "2                        0                     3  \n",
       "3                        7                     5  \n",
       "4                        0                     4  \n",
       "\n",
       "[5 rows x 24 columns]"
      ]
     },
     "execution_count": 3,
     "metadata": {},
     "output_type": "execute_result"
    }
   ],
   "source": [
    "df1.head()"
   ]
  },
  {
   "cell_type": "code",
   "execution_count": 4,
   "metadata": {},
   "outputs": [
    {
     "data": {
      "text/plain": [
       "(4382, 24)"
      ]
     },
     "execution_count": 4,
     "metadata": {},
     "output_type": "execute_result"
    }
   ],
   "source": [
    "df1.dropna(inplace=True)\n",
    "df1.shape"
   ]
  },
  {
   "cell_type": "code",
   "execution_count": 5,
   "metadata": {},
   "outputs": [],
   "source": [
    "df1 = df1.drop(columns = ['EmployeeID', 'EmployeeCount', 'Over18', 'StandardHours', ])"
   ]
  },
  {
   "cell_type": "code",
   "execution_count": 6,
   "metadata": {},
   "outputs": [],
   "source": [
    "def encode(cols):\n",
    "    enc = LabelEncoder()\n",
    "    for col in cols:\n",
    "        df1[col] = enc.fit_transform(df1[col])"
   ]
  },
  {
   "cell_type": "code",
   "execution_count": 7,
   "metadata": {},
   "outputs": [],
   "source": [
    "encode_cols = ['Attrition', 'BusinessTravel', 'Department', 'EducationField', 'Gender', 'JobRole', 'MaritalStatus']\n",
    "encode(encode_cols)"
   ]
  },
  {
   "cell_type": "code",
   "execution_count": 8,
   "metadata": {},
   "outputs": [
    {
     "name": "stdout",
     "output_type": "stream",
     "text": [
      "<class 'pandas.core.frame.DataFrame'>\n",
      "Int64Index: 4382 entries, 0 to 4408\n",
      "Data columns (total 20 columns):\n",
      " #   Column                   Non-Null Count  Dtype  \n",
      "---  ------                   --------------  -----  \n",
      " 0   Age                      4382 non-null   int64  \n",
      " 1   Attrition                4382 non-null   int32  \n",
      " 2   BusinessTravel           4382 non-null   int32  \n",
      " 3   Department               4382 non-null   int32  \n",
      " 4   DistanceFromHome         4382 non-null   int64  \n",
      " 5   Education                4382 non-null   int64  \n",
      " 6   EducationField           4382 non-null   int32  \n",
      " 7   Gender                   4382 non-null   int32  \n",
      " 8   JobLevel                 4382 non-null   int64  \n",
      " 9   JobRole                  4382 non-null   int32  \n",
      " 10  MaritalStatus            4382 non-null   int32  \n",
      " 11  MonthlyIncome            4382 non-null   int64  \n",
      " 12  NumCompaniesWorked       4382 non-null   float64\n",
      " 13  PercentSalaryHike        4382 non-null   int64  \n",
      " 14  StockOptionLevel         4382 non-null   int64  \n",
      " 15  TotalWorkingYears        4382 non-null   float64\n",
      " 16  TrainingTimesLastYear    4382 non-null   int64  \n",
      " 17  YearsAtCompany           4382 non-null   int64  \n",
      " 18  YearsSinceLastPromotion  4382 non-null   int64  \n",
      " 19  YearsWithCurrManager     4382 non-null   int64  \n",
      "dtypes: float64(2), int32(7), int64(11)\n",
      "memory usage: 599.1 KB\n"
     ]
    }
   ],
   "source": [
    "df1.info()"
   ]
  },
  {
   "cell_type": "code",
   "execution_count": 9,
   "metadata": {},
   "outputs": [],
   "source": [
    "y1 = df1['Attrition']\n",
    "x1 = df1.drop(columns = ['Attrition'])"
   ]
  },
  {
   "cell_type": "code",
   "execution_count": 10,
   "metadata": {},
   "outputs": [
    {
     "data": {
      "text/html": [
       "<div>\n",
       "<style scoped>\n",
       "    .dataframe tbody tr th:only-of-type {\n",
       "        vertical-align: middle;\n",
       "    }\n",
       "\n",
       "    .dataframe tbody tr th {\n",
       "        vertical-align: top;\n",
       "    }\n",
       "\n",
       "    .dataframe thead th {\n",
       "        text-align: right;\n",
       "    }\n",
       "</style>\n",
       "<table border=\"1\" class=\"dataframe\">\n",
       "  <thead>\n",
       "    <tr style=\"text-align: right;\">\n",
       "      <th></th>\n",
       "      <th>Age</th>\n",
       "      <th>BusinessTravel</th>\n",
       "      <th>Department</th>\n",
       "      <th>DistanceFromHome</th>\n",
       "      <th>Education</th>\n",
       "      <th>EducationField</th>\n",
       "      <th>Gender</th>\n",
       "      <th>JobLevel</th>\n",
       "      <th>JobRole</th>\n",
       "      <th>MaritalStatus</th>\n",
       "      <th>MonthlyIncome</th>\n",
       "      <th>NumCompaniesWorked</th>\n",
       "      <th>PercentSalaryHike</th>\n",
       "      <th>StockOptionLevel</th>\n",
       "      <th>TotalWorkingYears</th>\n",
       "      <th>TrainingTimesLastYear</th>\n",
       "      <th>YearsAtCompany</th>\n",
       "      <th>YearsSinceLastPromotion</th>\n",
       "      <th>YearsWithCurrManager</th>\n",
       "    </tr>\n",
       "  </thead>\n",
       "  <tbody>\n",
       "    <tr>\n",
       "      <th>0</th>\n",
       "      <td>51</td>\n",
       "      <td>2</td>\n",
       "      <td>2</td>\n",
       "      <td>6</td>\n",
       "      <td>2</td>\n",
       "      <td>1</td>\n",
       "      <td>0</td>\n",
       "      <td>1</td>\n",
       "      <td>0</td>\n",
       "      <td>1</td>\n",
       "      <td>131160</td>\n",
       "      <td>1.0</td>\n",
       "      <td>11</td>\n",
       "      <td>0</td>\n",
       "      <td>1.0</td>\n",
       "      <td>6</td>\n",
       "      <td>1</td>\n",
       "      <td>0</td>\n",
       "      <td>0</td>\n",
       "    </tr>\n",
       "    <tr>\n",
       "      <th>1</th>\n",
       "      <td>31</td>\n",
       "      <td>1</td>\n",
       "      <td>1</td>\n",
       "      <td>10</td>\n",
       "      <td>1</td>\n",
       "      <td>1</td>\n",
       "      <td>0</td>\n",
       "      <td>1</td>\n",
       "      <td>6</td>\n",
       "      <td>2</td>\n",
       "      <td>41890</td>\n",
       "      <td>0.0</td>\n",
       "      <td>23</td>\n",
       "      <td>1</td>\n",
       "      <td>6.0</td>\n",
       "      <td>3</td>\n",
       "      <td>5</td>\n",
       "      <td>1</td>\n",
       "      <td>4</td>\n",
       "    </tr>\n",
       "    <tr>\n",
       "      <th>2</th>\n",
       "      <td>32</td>\n",
       "      <td>1</td>\n",
       "      <td>1</td>\n",
       "      <td>17</td>\n",
       "      <td>4</td>\n",
       "      <td>4</td>\n",
       "      <td>1</td>\n",
       "      <td>4</td>\n",
       "      <td>7</td>\n",
       "      <td>1</td>\n",
       "      <td>193280</td>\n",
       "      <td>1.0</td>\n",
       "      <td>15</td>\n",
       "      <td>3</td>\n",
       "      <td>5.0</td>\n",
       "      <td>2</td>\n",
       "      <td>5</td>\n",
       "      <td>0</td>\n",
       "      <td>3</td>\n",
       "    </tr>\n",
       "    <tr>\n",
       "      <th>3</th>\n",
       "      <td>38</td>\n",
       "      <td>0</td>\n",
       "      <td>1</td>\n",
       "      <td>2</td>\n",
       "      <td>5</td>\n",
       "      <td>1</td>\n",
       "      <td>1</td>\n",
       "      <td>3</td>\n",
       "      <td>1</td>\n",
       "      <td>1</td>\n",
       "      <td>83210</td>\n",
       "      <td>3.0</td>\n",
       "      <td>11</td>\n",
       "      <td>3</td>\n",
       "      <td>13.0</td>\n",
       "      <td>5</td>\n",
       "      <td>8</td>\n",
       "      <td>7</td>\n",
       "      <td>5</td>\n",
       "    </tr>\n",
       "    <tr>\n",
       "      <th>4</th>\n",
       "      <td>32</td>\n",
       "      <td>2</td>\n",
       "      <td>1</td>\n",
       "      <td>10</td>\n",
       "      <td>1</td>\n",
       "      <td>3</td>\n",
       "      <td>1</td>\n",
       "      <td>1</td>\n",
       "      <td>7</td>\n",
       "      <td>2</td>\n",
       "      <td>23420</td>\n",
       "      <td>4.0</td>\n",
       "      <td>12</td>\n",
       "      <td>2</td>\n",
       "      <td>9.0</td>\n",
       "      <td>2</td>\n",
       "      <td>6</td>\n",
       "      <td>0</td>\n",
       "      <td>4</td>\n",
       "    </tr>\n",
       "  </tbody>\n",
       "</table>\n",
       "</div>"
      ],
      "text/plain": [
       "   Age  BusinessTravel  Department  DistanceFromHome  Education  \\\n",
       "0   51               2           2                 6          2   \n",
       "1   31               1           1                10          1   \n",
       "2   32               1           1                17          4   \n",
       "3   38               0           1                 2          5   \n",
       "4   32               2           1                10          1   \n",
       "\n",
       "   EducationField  Gender  JobLevel  JobRole  MaritalStatus  MonthlyIncome  \\\n",
       "0               1       0         1        0              1         131160   \n",
       "1               1       0         1        6              2          41890   \n",
       "2               4       1         4        7              1         193280   \n",
       "3               1       1         3        1              1          83210   \n",
       "4               3       1         1        7              2          23420   \n",
       "\n",
       "   NumCompaniesWorked  PercentSalaryHike  StockOptionLevel  TotalWorkingYears  \\\n",
       "0                 1.0                 11                 0                1.0   \n",
       "1                 0.0                 23                 1                6.0   \n",
       "2                 1.0                 15                 3                5.0   \n",
       "3                 3.0                 11                 3               13.0   \n",
       "4                 4.0                 12                 2                9.0   \n",
       "\n",
       "   TrainingTimesLastYear  YearsAtCompany  YearsSinceLastPromotion  \\\n",
       "0                      6               1                        0   \n",
       "1                      3               5                        1   \n",
       "2                      2               5                        0   \n",
       "3                      5               8                        7   \n",
       "4                      2               6                        0   \n",
       "\n",
       "   YearsWithCurrManager  \n",
       "0                     0  \n",
       "1                     4  \n",
       "2                     3  \n",
       "3                     5  \n",
       "4                     4  "
      ]
     },
     "metadata": {},
     "output_type": "display_data"
    },
    {
     "data": {
      "text/plain": [
       "0    0\n",
       "1    1\n",
       "2    0\n",
       "3    0\n",
       "4    0\n",
       "Name: Attrition, dtype: int32"
      ]
     },
     "metadata": {},
     "output_type": "display_data"
    }
   ],
   "source": [
    "display(x1.head())\n",
    "display(y1.head())"
   ]
  },
  {
   "cell_type": "code",
   "execution_count": 11,
   "metadata": {},
   "outputs": [],
   "source": [
    "X1 = sm.add_constant(x1)\n",
    "logistic_model1 = sm.Logit(y1,X1)"
   ]
  },
  {
   "cell_type": "code",
   "execution_count": 12,
   "metadata": {},
   "outputs": [
    {
     "name": "stdout",
     "output_type": "stream",
     "text": [
      "Optimization terminated successfully.\n",
      "         Current function value: 0.392916\n",
      "         Iterations 7\n"
     ]
    }
   ],
   "source": [
    "result1 = logistic_model1.fit()"
   ]
  },
  {
   "cell_type": "code",
   "execution_count": 13,
   "metadata": {},
   "outputs": [
    {
     "data": {
      "text/html": [
       "<table class=\"simpletable\">\n",
       "<caption>Logit Regression Results</caption>\n",
       "<tr>\n",
       "  <th>Dep. Variable:</th>       <td>Attrition</td>    <th>  No. Observations:  </th>  <td>  4382</td>  \n",
       "</tr>\n",
       "<tr>\n",
       "  <th>Model:</th>                 <td>Logit</td>      <th>  Df Residuals:      </th>  <td>  4362</td>  \n",
       "</tr>\n",
       "<tr>\n",
       "  <th>Method:</th>                 <td>MLE</td>       <th>  Df Model:          </th>  <td>    19</td>  \n",
       "</tr>\n",
       "<tr>\n",
       "  <th>Date:</th>            <td>Wed, 05 Aug 2020</td> <th>  Pseudo R-squ.:     </th>  <td>0.1093</td>  \n",
       "</tr>\n",
       "<tr>\n",
       "  <th>Time:</th>                <td>20:01:35</td>     <th>  Log-Likelihood:    </th> <td> -1721.8</td> \n",
       "</tr>\n",
       "<tr>\n",
       "  <th>converged:</th>             <td>True</td>       <th>  LL-Null:           </th> <td> -1933.1</td> \n",
       "</tr>\n",
       "<tr>\n",
       "  <th>Covariance Type:</th>     <td>nonrobust</td>    <th>  LLR p-value:       </th> <td>8.681e-78</td>\n",
       "</tr>\n",
       "</table>\n",
       "<table class=\"simpletable\">\n",
       "<tr>\n",
       "             <td></td>                <th>coef</th>     <th>std err</th>      <th>z</th>      <th>P>|z|</th>  <th>[0.025</th>    <th>0.975]</th>  \n",
       "</tr>\n",
       "<tr>\n",
       "  <th>const</th>                   <td>    0.0270</td> <td>    0.414</td> <td>    0.065</td> <td> 0.948</td> <td>   -0.785</td> <td>    0.839</td>\n",
       "</tr>\n",
       "<tr>\n",
       "  <th>Age</th>                     <td>   -0.0307</td> <td>    0.007</td> <td>   -4.478</td> <td> 0.000</td> <td>   -0.044</td> <td>   -0.017</td>\n",
       "</tr>\n",
       "<tr>\n",
       "  <th>BusinessTravel</th>          <td>   -0.0137</td> <td>    0.066</td> <td>   -0.209</td> <td> 0.834</td> <td>   -0.143</td> <td>    0.115</td>\n",
       "</tr>\n",
       "<tr>\n",
       "  <th>Department</th>              <td>   -0.2229</td> <td>    0.082</td> <td>   -2.735</td> <td> 0.006</td> <td>   -0.383</td> <td>   -0.063</td>\n",
       "</tr>\n",
       "<tr>\n",
       "  <th>DistanceFromHome</th>        <td>   -0.0012</td> <td>    0.005</td> <td>   -0.231</td> <td> 0.818</td> <td>   -0.012</td> <td>    0.009</td>\n",
       "</tr>\n",
       "<tr>\n",
       "  <th>Education</th>               <td>   -0.0664</td> <td>    0.043</td> <td>   -1.555</td> <td> 0.120</td> <td>   -0.150</td> <td>    0.017</td>\n",
       "</tr>\n",
       "<tr>\n",
       "  <th>EducationField</th>          <td>   -0.0954</td> <td>    0.034</td> <td>   -2.849</td> <td> 0.004</td> <td>   -0.161</td> <td>   -0.030</td>\n",
       "</tr>\n",
       "<tr>\n",
       "  <th>Gender</th>                  <td>    0.0855</td> <td>    0.090</td> <td>    0.952</td> <td> 0.341</td> <td>   -0.091</td> <td>    0.262</td>\n",
       "</tr>\n",
       "<tr>\n",
       "  <th>JobLevel</th>                <td>   -0.0285</td> <td>    0.040</td> <td>   -0.716</td> <td> 0.474</td> <td>   -0.107</td> <td>    0.050</td>\n",
       "</tr>\n",
       "<tr>\n",
       "  <th>JobRole</th>                 <td>    0.0400</td> <td>    0.018</td> <td>    2.226</td> <td> 0.026</td> <td>    0.005</td> <td>    0.075</td>\n",
       "</tr>\n",
       "<tr>\n",
       "  <th>MaritalStatus</th>           <td>    0.5835</td> <td>    0.063</td> <td>    9.212</td> <td> 0.000</td> <td>    0.459</td> <td>    0.708</td>\n",
       "</tr>\n",
       "<tr>\n",
       "  <th>MonthlyIncome</th>           <td>-1.815e-06</td> <td> 9.57e-07</td> <td>   -1.897</td> <td> 0.058</td> <td>-3.69e-06</td> <td> 6.01e-08</td>\n",
       "</tr>\n",
       "<tr>\n",
       "  <th>NumCompaniesWorked</th>      <td>    0.1174</td> <td>    0.018</td> <td>    6.390</td> <td> 0.000</td> <td>    0.081</td> <td>    0.153</td>\n",
       "</tr>\n",
       "<tr>\n",
       "  <th>PercentSalaryHike</th>       <td>    0.0126</td> <td>    0.012</td> <td>    1.067</td> <td> 0.286</td> <td>   -0.011</td> <td>    0.036</td>\n",
       "</tr>\n",
       "<tr>\n",
       "  <th>StockOptionLevel</th>        <td>   -0.0675</td> <td>    0.052</td> <td>   -1.302</td> <td> 0.193</td> <td>   -0.169</td> <td>    0.034</td>\n",
       "</tr>\n",
       "<tr>\n",
       "  <th>TotalWorkingYears</th>       <td>   -0.0584</td> <td>    0.012</td> <td>   -4.873</td> <td> 0.000</td> <td>   -0.082</td> <td>   -0.035</td>\n",
       "</tr>\n",
       "<tr>\n",
       "  <th>TrainingTimesLastYear</th>   <td>   -0.1443</td> <td>    0.035</td> <td>   -4.097</td> <td> 0.000</td> <td>   -0.213</td> <td>   -0.075</td>\n",
       "</tr>\n",
       "<tr>\n",
       "  <th>YearsAtCompany</th>          <td>    0.0132</td> <td>    0.018</td> <td>    0.718</td> <td> 0.473</td> <td>   -0.023</td> <td>    0.049</td>\n",
       "</tr>\n",
       "<tr>\n",
       "  <th>YearsSinceLastPromotion</th> <td>    0.1328</td> <td>    0.020</td> <td>    6.479</td> <td> 0.000</td> <td>    0.093</td> <td>    0.173</td>\n",
       "</tr>\n",
       "<tr>\n",
       "  <th>YearsWithCurrManager</th>    <td>   -0.1394</td> <td>    0.022</td> <td>   -6.288</td> <td> 0.000</td> <td>   -0.183</td> <td>   -0.096</td>\n",
       "</tr>\n",
       "</table>"
      ],
      "text/plain": [
       "<class 'statsmodels.iolib.summary.Summary'>\n",
       "\"\"\"\n",
       "                           Logit Regression Results                           \n",
       "==============================================================================\n",
       "Dep. Variable:              Attrition   No. Observations:                 4382\n",
       "Model:                          Logit   Df Residuals:                     4362\n",
       "Method:                           MLE   Df Model:                           19\n",
       "Date:                Wed, 05 Aug 2020   Pseudo R-squ.:                  0.1093\n",
       "Time:                        20:01:35   Log-Likelihood:                -1721.8\n",
       "converged:                       True   LL-Null:                       -1933.1\n",
       "Covariance Type:            nonrobust   LLR p-value:                 8.681e-78\n",
       "===========================================================================================\n",
       "                              coef    std err          z      P>|z|      [0.025      0.975]\n",
       "-------------------------------------------------------------------------------------------\n",
       "const                       0.0270      0.414      0.065      0.948      -0.785       0.839\n",
       "Age                        -0.0307      0.007     -4.478      0.000      -0.044      -0.017\n",
       "BusinessTravel             -0.0137      0.066     -0.209      0.834      -0.143       0.115\n",
       "Department                 -0.2229      0.082     -2.735      0.006      -0.383      -0.063\n",
       "DistanceFromHome           -0.0012      0.005     -0.231      0.818      -0.012       0.009\n",
       "Education                  -0.0664      0.043     -1.555      0.120      -0.150       0.017\n",
       "EducationField             -0.0954      0.034     -2.849      0.004      -0.161      -0.030\n",
       "Gender                      0.0855      0.090      0.952      0.341      -0.091       0.262\n",
       "JobLevel                   -0.0285      0.040     -0.716      0.474      -0.107       0.050\n",
       "JobRole                     0.0400      0.018      2.226      0.026       0.005       0.075\n",
       "MaritalStatus               0.5835      0.063      9.212      0.000       0.459       0.708\n",
       "MonthlyIncome           -1.815e-06   9.57e-07     -1.897      0.058   -3.69e-06    6.01e-08\n",
       "NumCompaniesWorked          0.1174      0.018      6.390      0.000       0.081       0.153\n",
       "PercentSalaryHike           0.0126      0.012      1.067      0.286      -0.011       0.036\n",
       "StockOptionLevel           -0.0675      0.052     -1.302      0.193      -0.169       0.034\n",
       "TotalWorkingYears          -0.0584      0.012     -4.873      0.000      -0.082      -0.035\n",
       "TrainingTimesLastYear      -0.1443      0.035     -4.097      0.000      -0.213      -0.075\n",
       "YearsAtCompany              0.0132      0.018      0.718      0.473      -0.023       0.049\n",
       "YearsSinceLastPromotion     0.1328      0.020      6.479      0.000       0.093       0.173\n",
       "YearsWithCurrManager       -0.1394      0.022     -6.288      0.000      -0.183      -0.096\n",
       "===========================================================================================\n",
       "\"\"\""
      ]
     },
     "execution_count": 13,
     "metadata": {},
     "output_type": "execute_result"
    }
   ],
   "source": [
    "result1.summary()"
   ]
  },
  {
   "cell_type": "markdown",
   "metadata": {},
   "source": [
    "# Inference\n",
    "\n",
    "The following factors highly affect attrition in employees:\n",
    "\n",
    ">1. Age of the employee\n",
    "2. Marital status of the employee\n",
    "3. Total number of companies the employee has worked for\n",
    "4. Total number of years the employee has worked so far\n",
    "5. Number of times training was conducted for this employee last year\n",
    "6. Number of years since last promotion\n",
    "7. Number of years under current manager\n",
    "8. The following factors also affect attrition in employees:\n",
    "\n",
    "The following factors also affect attrition in employees:\n",
    "\n",
    ">1. Department in company\n",
    "2. Field of education"
   ]
  },
  {
   "cell_type": "markdown",
   "metadata": {},
   "source": [
    "# ----------------------------------------------------------------------------------------------------------------------------------------------------------------------------------------------------------------------------------"
   ]
  },
  {
   "cell_type": "markdown",
   "metadata": {},
   "source": [
    "# Logistic Regression on House Prices"
   ]
  },
  {
   "cell_type": "code",
   "execution_count": 14,
   "metadata": {},
   "outputs": [
    {
     "data": {
      "text/html": [
       "<div>\n",
       "<style scoped>\n",
       "    .dataframe tbody tr th:only-of-type {\n",
       "        vertical-align: middle;\n",
       "    }\n",
       "\n",
       "    .dataframe tbody tr th {\n",
       "        vertical-align: top;\n",
       "    }\n",
       "\n",
       "    .dataframe thead th {\n",
       "        text-align: right;\n",
       "    }\n",
       "</style>\n",
       "<table border=\"1\" class=\"dataframe\">\n",
       "  <thead>\n",
       "    <tr style=\"text-align: right;\">\n",
       "      <th></th>\n",
       "      <th>ID</th>\n",
       "      <th>Age</th>\n",
       "      <th>Experience</th>\n",
       "      <th>Income</th>\n",
       "      <th>ZIP Code</th>\n",
       "      <th>Family</th>\n",
       "      <th>CCAvg</th>\n",
       "      <th>Education</th>\n",
       "      <th>Mortgage</th>\n",
       "      <th>Personal Loan</th>\n",
       "      <th>Securities Account</th>\n",
       "      <th>CD Account</th>\n",
       "      <th>Online</th>\n",
       "      <th>CreditCard</th>\n",
       "    </tr>\n",
       "  </thead>\n",
       "  <tbody>\n",
       "    <tr>\n",
       "      <th>0</th>\n",
       "      <td>1</td>\n",
       "      <td>25</td>\n",
       "      <td>1</td>\n",
       "      <td>49</td>\n",
       "      <td>91107</td>\n",
       "      <td>4</td>\n",
       "      <td>1.6</td>\n",
       "      <td>1</td>\n",
       "      <td>0</td>\n",
       "      <td>0</td>\n",
       "      <td>1</td>\n",
       "      <td>0</td>\n",
       "      <td>0</td>\n",
       "      <td>0</td>\n",
       "    </tr>\n",
       "    <tr>\n",
       "      <th>1</th>\n",
       "      <td>2</td>\n",
       "      <td>45</td>\n",
       "      <td>19</td>\n",
       "      <td>34</td>\n",
       "      <td>90089</td>\n",
       "      <td>3</td>\n",
       "      <td>1.5</td>\n",
       "      <td>1</td>\n",
       "      <td>0</td>\n",
       "      <td>0</td>\n",
       "      <td>1</td>\n",
       "      <td>0</td>\n",
       "      <td>0</td>\n",
       "      <td>0</td>\n",
       "    </tr>\n",
       "    <tr>\n",
       "      <th>2</th>\n",
       "      <td>3</td>\n",
       "      <td>39</td>\n",
       "      <td>15</td>\n",
       "      <td>11</td>\n",
       "      <td>94720</td>\n",
       "      <td>1</td>\n",
       "      <td>1.0</td>\n",
       "      <td>1</td>\n",
       "      <td>0</td>\n",
       "      <td>0</td>\n",
       "      <td>0</td>\n",
       "      <td>0</td>\n",
       "      <td>0</td>\n",
       "      <td>0</td>\n",
       "    </tr>\n",
       "    <tr>\n",
       "      <th>3</th>\n",
       "      <td>4</td>\n",
       "      <td>35</td>\n",
       "      <td>9</td>\n",
       "      <td>100</td>\n",
       "      <td>94112</td>\n",
       "      <td>1</td>\n",
       "      <td>2.7</td>\n",
       "      <td>2</td>\n",
       "      <td>0</td>\n",
       "      <td>0</td>\n",
       "      <td>0</td>\n",
       "      <td>0</td>\n",
       "      <td>0</td>\n",
       "      <td>0</td>\n",
       "    </tr>\n",
       "    <tr>\n",
       "      <th>4</th>\n",
       "      <td>5</td>\n",
       "      <td>35</td>\n",
       "      <td>8</td>\n",
       "      <td>45</td>\n",
       "      <td>91330</td>\n",
       "      <td>4</td>\n",
       "      <td>1.0</td>\n",
       "      <td>2</td>\n",
       "      <td>0</td>\n",
       "      <td>0</td>\n",
       "      <td>0</td>\n",
       "      <td>0</td>\n",
       "      <td>0</td>\n",
       "      <td>1</td>\n",
       "    </tr>\n",
       "  </tbody>\n",
       "</table>\n",
       "</div>"
      ],
      "text/plain": [
       "   ID  Age  Experience  Income  ZIP Code  Family  CCAvg  Education  Mortgage  \\\n",
       "0   1   25           1      49     91107       4    1.6          1         0   \n",
       "1   2   45          19      34     90089       3    1.5          1         0   \n",
       "2   3   39          15      11     94720       1    1.0          1         0   \n",
       "3   4   35           9     100     94112       1    2.7          2         0   \n",
       "4   5   35           8      45     91330       4    1.0          2         0   \n",
       "\n",
       "   Personal Loan  Securities Account  CD Account  Online  CreditCard  \n",
       "0              0                   1           0       0           0  \n",
       "1              0                   1           0       0           0  \n",
       "2              0                   0           0       0           0  \n",
       "3              0                   0           0       0           0  \n",
       "4              0                   0           0       0           1  "
      ]
     },
     "execution_count": 14,
     "metadata": {},
     "output_type": "execute_result"
    }
   ],
   "source": [
    "df2  = pd.read_excel('./datasets/Bank_Personal_Loan_Modelling.xlsx', sheet_name = 'Data')\n",
    "df2.head()"
   ]
  },
  {
   "cell_type": "code",
   "execution_count": 15,
   "metadata": {},
   "outputs": [
    {
     "data": {
      "text/plain": [
       "(4987, 12)"
      ]
     },
     "execution_count": 15,
     "metadata": {},
     "output_type": "execute_result"
    }
   ],
   "source": [
    "df2 = df2.drop(columns = ['ID', 'ZIP Code'] )\n",
    "df2.drop_duplicates(inplace=True)\n",
    "df2.shape"
   ]
  },
  {
   "cell_type": "code",
   "execution_count": 16,
   "metadata": {},
   "outputs": [],
   "source": [
    "y2 = df2['Personal Loan']\n",
    "x2 = df2[['Age', 'Experience', 'Income', 'Family', 'CCAvg', 'Education', 'Mortgage', \\\n",
    "        'Securities Account', 'CD Account', 'Online', 'CreditCard']]"
   ]
  },
  {
   "cell_type": "code",
   "execution_count": 17,
   "metadata": {},
   "outputs": [],
   "source": [
    "X2 = sm.add_constant(x2)\n",
    "logistic_model2 = sm.Logit(y2,X2)"
   ]
  },
  {
   "cell_type": "code",
   "execution_count": 18,
   "metadata": {},
   "outputs": [
    {
     "name": "stdout",
     "output_type": "stream",
     "text": [
      "Optimization terminated successfully.\n",
      "         Current function value: 0.128720\n",
      "         Iterations 9\n"
     ]
    }
   ],
   "source": [
    "result2 = logistic_model2.fit()"
   ]
  },
  {
   "cell_type": "code",
   "execution_count": 19,
   "metadata": {},
   "outputs": [
    {
     "data": {
      "text/html": [
       "<table class=\"simpletable\">\n",
       "<caption>Logit Regression Results</caption>\n",
       "<tr>\n",
       "  <th>Dep. Variable:</th>     <td>Personal Loan</td>  <th>  No. Observations:  </th>  <td>  4987</td> \n",
       "</tr>\n",
       "<tr>\n",
       "  <th>Model:</th>                 <td>Logit</td>      <th>  Df Residuals:      </th>  <td>  4975</td> \n",
       "</tr>\n",
       "<tr>\n",
       "  <th>Method:</th>                 <td>MLE</td>       <th>  Df Model:          </th>  <td>    11</td> \n",
       "</tr>\n",
       "<tr>\n",
       "  <th>Date:</th>            <td>Wed, 05 Aug 2020</td> <th>  Pseudo R-squ.:     </th>  <td>0.5936</td> \n",
       "</tr>\n",
       "<tr>\n",
       "  <th>Time:</th>                <td>20:01:40</td>     <th>  Log-Likelihood:    </th> <td> -641.93</td>\n",
       "</tr>\n",
       "<tr>\n",
       "  <th>converged:</th>             <td>True</td>       <th>  LL-Null:           </th> <td> -1579.7</td>\n",
       "</tr>\n",
       "<tr>\n",
       "  <th>Covariance Type:</th>     <td>nonrobust</td>    <th>  LLR p-value:       </th>  <td> 0.000</td> \n",
       "</tr>\n",
       "</table>\n",
       "<table class=\"simpletable\">\n",
       "<tr>\n",
       "           <td></td>             <th>coef</th>     <th>std err</th>      <th>z</th>      <th>P>|z|</th>  <th>[0.025</th>    <th>0.975]</th>  \n",
       "</tr>\n",
       "<tr>\n",
       "  <th>const</th>              <td>  -12.1727</td> <td>    1.645</td> <td>   -7.399</td> <td> 0.000</td> <td>  -15.397</td> <td>   -8.948</td>\n",
       "</tr>\n",
       "<tr>\n",
       "  <th>Age</th>                <td>   -0.0541</td> <td>    0.061</td> <td>   -0.882</td> <td> 0.378</td> <td>   -0.174</td> <td>    0.066</td>\n",
       "</tr>\n",
       "<tr>\n",
       "  <th>Experience</th>         <td>    0.0642</td> <td>    0.061</td> <td>    1.054</td> <td> 0.292</td> <td>   -0.055</td> <td>    0.184</td>\n",
       "</tr>\n",
       "<tr>\n",
       "  <th>Income</th>             <td>    0.0545</td> <td>    0.003</td> <td>   20.822</td> <td> 0.000</td> <td>    0.049</td> <td>    0.060</td>\n",
       "</tr>\n",
       "<tr>\n",
       "  <th>Family</th>             <td>    0.6947</td> <td>    0.074</td> <td>    9.348</td> <td> 0.000</td> <td>    0.549</td> <td>    0.840</td>\n",
       "</tr>\n",
       "<tr>\n",
       "  <th>CCAvg</th>              <td>    0.1236</td> <td>    0.040</td> <td>    3.117</td> <td> 0.002</td> <td>    0.046</td> <td>    0.201</td>\n",
       "</tr>\n",
       "<tr>\n",
       "  <th>Education</th>          <td>    1.7363</td> <td>    0.115</td> <td>   15.091</td> <td> 0.000</td> <td>    1.511</td> <td>    1.962</td>\n",
       "</tr>\n",
       "<tr>\n",
       "  <th>Mortgage</th>           <td>    0.0005</td> <td>    0.001</td> <td>    0.848</td> <td> 0.396</td> <td>   -0.001</td> <td>    0.002</td>\n",
       "</tr>\n",
       "<tr>\n",
       "  <th>Securities Account</th> <td>   -0.9371</td> <td>    0.286</td> <td>   -3.280</td> <td> 0.001</td> <td>   -1.497</td> <td>   -0.377</td>\n",
       "</tr>\n",
       "<tr>\n",
       "  <th>CD Account</th>         <td>    3.8181</td> <td>    0.324</td> <td>   11.788</td> <td> 0.000</td> <td>    3.183</td> <td>    4.453</td>\n",
       "</tr>\n",
       "<tr>\n",
       "  <th>Online</th>             <td>   -0.6724</td> <td>    0.157</td> <td>   -4.280</td> <td> 0.000</td> <td>   -0.980</td> <td>   -0.364</td>\n",
       "</tr>\n",
       "<tr>\n",
       "  <th>CreditCard</th>         <td>   -1.1181</td> <td>    0.205</td> <td>   -5.454</td> <td> 0.000</td> <td>   -1.520</td> <td>   -0.716</td>\n",
       "</tr>\n",
       "</table>"
      ],
      "text/plain": [
       "<class 'statsmodels.iolib.summary.Summary'>\n",
       "\"\"\"\n",
       "                           Logit Regression Results                           \n",
       "==============================================================================\n",
       "Dep. Variable:          Personal Loan   No. Observations:                 4987\n",
       "Model:                          Logit   Df Residuals:                     4975\n",
       "Method:                           MLE   Df Model:                           11\n",
       "Date:                Wed, 05 Aug 2020   Pseudo R-squ.:                  0.5936\n",
       "Time:                        20:01:40   Log-Likelihood:                -641.93\n",
       "converged:                       True   LL-Null:                       -1579.7\n",
       "Covariance Type:            nonrobust   LLR p-value:                     0.000\n",
       "======================================================================================\n",
       "                         coef    std err          z      P>|z|      [0.025      0.975]\n",
       "--------------------------------------------------------------------------------------\n",
       "const                -12.1727      1.645     -7.399      0.000     -15.397      -8.948\n",
       "Age                   -0.0541      0.061     -0.882      0.378      -0.174       0.066\n",
       "Experience             0.0642      0.061      1.054      0.292      -0.055       0.184\n",
       "Income                 0.0545      0.003     20.822      0.000       0.049       0.060\n",
       "Family                 0.6947      0.074      9.348      0.000       0.549       0.840\n",
       "CCAvg                  0.1236      0.040      3.117      0.002       0.046       0.201\n",
       "Education              1.7363      0.115     15.091      0.000       1.511       1.962\n",
       "Mortgage               0.0005      0.001      0.848      0.396      -0.001       0.002\n",
       "Securities Account    -0.9371      0.286     -3.280      0.001      -1.497      -0.377\n",
       "CD Account             3.8181      0.324     11.788      0.000       3.183       4.453\n",
       "Online                -0.6724      0.157     -4.280      0.000      -0.980      -0.364\n",
       "CreditCard            -1.1181      0.205     -5.454      0.000      -1.520      -0.716\n",
       "======================================================================================\n",
       "\"\"\""
      ]
     },
     "execution_count": 19,
     "metadata": {},
     "output_type": "execute_result"
    }
   ],
   "source": [
    "result2.summary()"
   ]
  },
  {
   "cell_type": "markdown",
   "metadata": {},
   "source": [
    "# Inference\n",
    "\n",
    "When a bank wants to offer a loan, the following factors are highly significant:\n",
    "\n",
    ">1. Annual income of the customer\n",
    "2. Family size of the customer\n",
    "3. Education Level. 1: Undergrad; 2: Graduate; 3: Advanced/Professional\n",
    "4. Does the customer have a certificate of deposit (CD) account with the bank?\n",
    "5. Does the customer use internet banking facilities?\n",
    "6. Does the customer use a credit card issued by UniversalBank?\n",
    "\n",
    "The following factors are also significant to some extent:\n",
    "\n",
    ">1. Avg. spending on credit cards per month\n",
    "2. Does the customer have a securities account with the bank"
   ]
  },
  {
   "cell_type": "markdown",
   "metadata": {},
   "source": [
    "# ----------------------------------------------------------------------------------------------------------------------------------------------------------------------------------------------------------------------------------"
   ]
  },
  {
   "cell_type": "markdown",
   "metadata": {},
   "source": [
    "# Linear Regression on Bank Personal Loan Modelling"
   ]
  },
  {
   "cell_type": "code",
   "execution_count": 20,
   "metadata": {},
   "outputs": [
    {
     "data": {
      "text/html": [
       "<div>\n",
       "<style scoped>\n",
       "    .dataframe tbody tr th:only-of-type {\n",
       "        vertical-align: middle;\n",
       "    }\n",
       "\n",
       "    .dataframe tbody tr th {\n",
       "        vertical-align: top;\n",
       "    }\n",
       "\n",
       "    .dataframe thead th {\n",
       "        text-align: right;\n",
       "    }\n",
       "</style>\n",
       "<table border=\"1\" class=\"dataframe\">\n",
       "  <thead>\n",
       "    <tr style=\"text-align: right;\">\n",
       "      <th></th>\n",
       "      <th>price</th>\n",
       "      <th>sqft_living</th>\n",
       "      <th>bedrooms</th>\n",
       "      <th>bathrooms</th>\n",
       "      <th>floors</th>\n",
       "    </tr>\n",
       "  </thead>\n",
       "  <tbody>\n",
       "    <tr>\n",
       "      <th>0</th>\n",
       "      <td>221900</td>\n",
       "      <td>1180</td>\n",
       "      <td>3</td>\n",
       "      <td>1.00</td>\n",
       "      <td>1.0</td>\n",
       "    </tr>\n",
       "    <tr>\n",
       "      <th>1</th>\n",
       "      <td>538000</td>\n",
       "      <td>2570</td>\n",
       "      <td>3</td>\n",
       "      <td>2.25</td>\n",
       "      <td>2.0</td>\n",
       "    </tr>\n",
       "    <tr>\n",
       "      <th>2</th>\n",
       "      <td>180000</td>\n",
       "      <td>770</td>\n",
       "      <td>2</td>\n",
       "      <td>1.00</td>\n",
       "      <td>1.0</td>\n",
       "    </tr>\n",
       "    <tr>\n",
       "      <th>3</th>\n",
       "      <td>604000</td>\n",
       "      <td>1960</td>\n",
       "      <td>4</td>\n",
       "      <td>3.00</td>\n",
       "      <td>1.0</td>\n",
       "    </tr>\n",
       "    <tr>\n",
       "      <th>4</th>\n",
       "      <td>510000</td>\n",
       "      <td>1680</td>\n",
       "      <td>3</td>\n",
       "      <td>2.00</td>\n",
       "      <td>1.0</td>\n",
       "    </tr>\n",
       "  </tbody>\n",
       "</table>\n",
       "</div>"
      ],
      "text/plain": [
       "    price  sqft_living  bedrooms  bathrooms  floors\n",
       "0  221900         1180         3       1.00     1.0\n",
       "1  538000         2570         3       2.25     2.0\n",
       "2  180000          770         2       1.00     1.0\n",
       "3  604000         1960         4       3.00     1.0\n",
       "4  510000         1680         3       2.00     1.0"
      ]
     },
     "execution_count": 20,
     "metadata": {},
     "output_type": "execute_result"
    }
   ],
   "source": [
    "df3 = pd.read_excel(\"./datasets/Linear Regression.xlsx\")\n",
    "df3.head()"
   ]
  },
  {
   "cell_type": "code",
   "execution_count": 21,
   "metadata": {},
   "outputs": [
    {
     "data": {
      "text/plain": [
       "price            int64\n",
       "sqft_living      int64\n",
       "bedrooms         int64\n",
       "bathrooms      float64\n",
       "floors         float64\n",
       "dtype: object"
      ]
     },
     "execution_count": 21,
     "metadata": {},
     "output_type": "execute_result"
    }
   ],
   "source": [
    "df3.dtypes"
   ]
  },
  {
   "cell_type": "code",
   "execution_count": 22,
   "metadata": {},
   "outputs": [
    {
     "data": {
      "text/plain": [
       "Index(['price', 'sqft_living', 'bedrooms', 'bathrooms', 'floors'], dtype='object')"
      ]
     },
     "execution_count": 22,
     "metadata": {},
     "output_type": "execute_result"
    }
   ],
   "source": [
    "df3.columns"
   ]
  },
  {
   "cell_type": "code",
   "execution_count": 23,
   "metadata": {},
   "outputs": [
    {
     "data": {
      "text/plain": [
       "<matplotlib.axes._subplots.AxesSubplot at 0x2b2b8fd04e0>"
      ]
     },
     "execution_count": 23,
     "metadata": {},
     "output_type": "execute_result"
    },
    {
     "data": {
      "image/png": "[encoded data removed]",
      "text/plain": [
       "<Figure size 432x288 with 2 Axes>"
      ]
     },
     "metadata": {
      "needs_background": "light"
     },
     "output_type": "display_data"
    }
   ],
   "source": [
    "sns.heatmap(df3.corr(), annot = True)"
   ]
  },
  {
   "cell_type": "code",
   "execution_count": null,
   "metadata": {},
   "outputs": [
    {
     "data": {
      "text/plain": [
       "<seaborn.axisgrid.PairGrid at 0x2b2b9209860>"
      ]
     },
     "execution_count": 24,
     "metadata": {},
     "output_type": "execute_result"
    }
   ],
   "source": [
    "sns.pairplot(df3)"
   ]
  },
  {
   "cell_type": "code",
   "execution_count": null,
   "metadata": {},
   "outputs": [],
   "source": [
    "df3.boxplot()"
   ]
  },
  {
   "cell_type": "code",
   "execution_count": null,
   "metadata": {},
   "outputs": [],
   "source": [
    "sns.boxenplot(df3.price)"
   ]
  },
  {
   "cell_type": "markdown",
   "metadata": {},
   "source": [
    "## Checking Linear Regression between Price and sqft_living."
   ]
  },
  {
   "cell_type": "code",
   "execution_count": null,
   "metadata": {},
   "outputs": [],
   "source": [
    "price = df3.iloc[:, :1]\n",
    "sqft_living = df3.iloc[:,1:2]"
   ]
  },
  {
   "cell_type": "code",
   "execution_count": null,
   "metadata": {},
   "outputs": [],
   "source": [
    "plt.scatter(price, sqft_living)\n",
    "plt.title('Price variation with square feet of area')\n",
    "plt.xlabel('Price of the House')\n",
    "plt.ylabel('Area in squarefeet')"
   ]
  },
  {
   "cell_type": "code",
   "execution_count": null,
   "metadata": {},
   "outputs": [],
   "source": [
    "X_train1, X_test1, y_train1, y_test1 = train_test_split(price, sqft_living, test_size = 0.3, random_state = 3)"
   ]
  },
  {
   "cell_type": "code",
   "execution_count": null,
   "metadata": {},
   "outputs": [],
   "source": [
    "model1 = LinearRegression()\n",
    "model1.fit(X_train1, y_train1)"
   ]
  },
  {
   "cell_type": "code",
   "execution_count": null,
   "metadata": {},
   "outputs": [],
   "source": [
    "model1.coef_"
   ]
  },
  {
   "cell_type": "code",
   "execution_count": null,
   "metadata": {},
   "outputs": [],
   "source": [
    "model1.intercept_"
   ]
  },
  {
   "cell_type": "code",
   "execution_count": null,
   "metadata": {},
   "outputs": [],
   "source": [
    "plt.scatter(X_train1, y_train1, color = 'red')\n",
    "plt.plot(X_train1, model1.predict(X_train1), color = 'green')\n",
    "plt.title('Price variation with squrefeet of area')\n",
    "plt.xlabel('Price of the House')\n",
    "plt.ylabel('Area in squarefeet')"
   ]
  },
  {
   "cell_type": "code",
   "execution_count": null,
   "metadata": {},
   "outputs": [],
   "source": [
    "y_pred1 = model1.predict(X_test1)"
   ]
  },
  {
   "cell_type": "code",
   "execution_count": null,
   "metadata": {},
   "outputs": [],
   "source": [
    "plt.scatter(X_test1,y_test1, color = 'green')\n",
    "plt.plot(X_test1, model1.predict(X_test1), color = 'blue')\n",
    "plt.title('Price variation with squrefeet of area')\n",
    "plt.xlabel('Price of the House')\n",
    "plt.ylabel('Area in squarefeet')"
   ]
  },
  {
   "cell_type": "code",
   "execution_count": null,
   "metadata": {},
   "outputs": [],
   "source": [
    "RMSE1 = np.sqrt(mean_squared_error(y_test1, y_pred1))\n",
    "r_square1 = r2_score(y_test1, y_pred1)\n",
    "\n",
    "print(f'The R-Square value is....{r_square1}')\n",
    "print(f'The RMSE value is........{RMSE1}')"
   ]
  },
  {
   "cell_type": "code",
   "execution_count": null,
   "metadata": {},
   "outputs": [],
   "source": [
    "unseen_pred1 = model1.predict(np.array([[7368]]))\n",
    "print(f'The unseen for the given x is....{unseen_pred1}')"
   ]
  },
  {
   "cell_type": "markdown",
   "metadata": {},
   "source": [
    "## LINEAR REGRESSION MODEL BETWEEN PRICE AND BEDROOMS:-"
   ]
  },
  {
   "cell_type": "code",
   "execution_count": null,
   "metadata": {},
   "outputs": [],
   "source": [
    "bedroom = df3.iloc[:,2:3]"
   ]
  },
  {
   "cell_type": "code",
   "execution_count": null,
   "metadata": {},
   "outputs": [],
   "source": [
    "plt.scatter(price, bedroom)\n",
    "plt.title('Price variation with square feet of area')\n",
    "plt.xlabel('Price of the House')\n",
    "plt.ylabel('No of bedroom')"
   ]
  },
  {
   "cell_type": "code",
   "execution_count": null,
   "metadata": {},
   "outputs": [],
   "source": [
    "X_train2,X_test2,y_train2,y_test2 = train_test_split(price,bedroom,test_size = 0.3,random_state = 3)"
   ]
  },
  {
   "cell_type": "code",
   "execution_count": null,
   "metadata": {},
   "outputs": [],
   "source": [
    "model2 = LinearRegression()\n",
    "model2.fit(X_train2, y_train2)"
   ]
  },
  {
   "cell_type": "code",
   "execution_count": null,
   "metadata": {},
   "outputs": [],
   "source": [
    "model2.coef_"
   ]
  },
  {
   "cell_type": "code",
   "execution_count": null,
   "metadata": {},
   "outputs": [],
   "source": [
    "model2.intercept_"
   ]
  },
  {
   "cell_type": "code",
   "execution_count": null,
   "metadata": {},
   "outputs": [],
   "source": [
    "plt.scatter(X_train2, y_train2, color = 'red')\n",
    "plt.plot(X_train2, model2.predict(X_train2), color = 'green')\n",
    "plt.title('Price variation with Bedrooms')\n",
    "plt.xlabel('Price of the House')\n",
    "plt.ylabel('Number of Bedrooms')"
   ]
  },
  {
   "cell_type": "code",
   "execution_count": null,
   "metadata": {},
   "outputs": [],
   "source": [
    "y_pred2 = model2.predict(X_test2)"
   ]
  },
  {
   "cell_type": "code",
   "execution_count": null,
   "metadata": {},
   "outputs": [],
   "source": [
    "plt.scatter(X_test2,y_test2, color = 'green')\n",
    "plt.plot(X_test2, model2.predict(X_test2), color = 'blue')\n",
    "plt.title('Price variation with squrefeet of area')\n",
    "plt.xlabel('Price of the House')\n",
    "plt.ylabel(\"Number of bedrooms\")"
   ]
  },
  {
   "cell_type": "code",
   "execution_count": null,
   "metadata": {},
   "outputs": [],
   "source": [
    "RMSE2 = np.sqrt(mean_squared_error(y_test2, y_pred2))\n",
    "r_square2 = r2_score(y_test2, y_pred2)\n",
    "\n",
    "print(f'The R-Square value is....{r_square2}')\n",
    "print(f'The RMSE value is........{RMSE2}')"
   ]
  },
  {
   "cell_type": "markdown",
   "metadata": {},
   "source": [
    "## LINEAR REGRESSION MODEL BETWEEN PRICE AND BATHROOMS:-"
   ]
  },
  {
   "cell_type": "code",
   "execution_count": null,
   "metadata": {},
   "outputs": [],
   "source": [
    "bathroom = df3.iloc[:,3:4]"
   ]
  },
  {
   "cell_type": "code",
   "execution_count": null,
   "metadata": {},
   "outputs": [],
   "source": [
    "plt.scatter(price, bathroom)\n",
    "plt.title('Price variation with square feet of area')\n",
    "plt.xlabel('Price of the House')\n",
    "plt.ylabel('No of bathroom')"
   ]
  },
  {
   "cell_type": "code",
   "execution_count": null,
   "metadata": {},
   "outputs": [],
   "source": [
    "X_train3,X_test3,y_train3,y_test3 = train_test_split(price, bathroom,test_size = 0.3,random_state = 3)"
   ]
  },
  {
   "cell_type": "code",
   "execution_count": null,
   "metadata": {},
   "outputs": [],
   "source": [
    "model3 = LinearRegression()\n",
    "model3.fit(X_train3,y_train3)"
   ]
  },
  {
   "cell_type": "code",
   "execution_count": null,
   "metadata": {},
   "outputs": [],
   "source": [
    "plt.scatter(X_train3, y_train3, color = 'red')\n",
    "plt.plot(X_train3, model3.predict(X_train3), color = 'green')\n",
    "plt.title('Price variation with Bedrooms')\n",
    "plt.xlabel('Price of the House')\n",
    "plt.ylabel('Number of Bathrooms')"
   ]
  },
  {
   "cell_type": "code",
   "execution_count": null,
   "metadata": {},
   "outputs": [],
   "source": [
    "y_pred3 = model3.predict(X_test3)"
   ]
  },
  {
   "cell_type": "code",
   "execution_count": null,
   "metadata": {},
   "outputs": [],
   "source": [
    "plt.scatter(X_test3,y_test3, color = 'green')\n",
    "plt.plot(X_test3, model3.predict(X_test3), color = 'blue')\n",
    "plt.title('Price variation with squrefeet of area')\n",
    "plt.xlabel('Price of the House')\n",
    "plt.ylabel(\"Number of bathrooms\")"
   ]
  },
  {
   "cell_type": "code",
   "execution_count": null,
   "metadata": {},
   "outputs": [],
   "source": [
    "RMSE3 = np.sqrt(mean_squared_error(y_test3, y_pred3))\n",
    "r_square3 = r2_score(y_test3, y_pred3)\n",
    "\n",
    "print(f'The R-Square value is....{r_square3}')\n",
    "print(f'The RMSE value is........{RMSE3}')"
   ]
  },
  {
   "cell_type": "markdown",
   "metadata": {},
   "source": [
    "## LINEAR REGRESSION MODEL BETWEEN PRICE AND FLOORS:-"
   ]
  },
  {
   "cell_type": "code",
   "execution_count": null,
   "metadata": {},
   "outputs": [],
   "source": [
    "floor = df3.iloc[:,4:5]"
   ]
  },
  {
   "cell_type": "code",
   "execution_count": null,
   "metadata": {},
   "outputs": [],
   "source": [
    "plt.scatter(price, floor)\n",
    "plt.title('Price variation with square feet of area')\n",
    "plt.xlabel('Price of the House')\n",
    "plt.ylabel('No of floor')"
   ]
  },
  {
   "cell_type": "code",
   "execution_count": null,
   "metadata": {},
   "outputs": [],
   "source": [
    "X_train4,X_test4,y_train4,y_test4 = train_test_split(price,floor,test_size = 0.3,random_state = 3)"
   ]
  },
  {
   "cell_type": "code",
   "execution_count": null,
   "metadata": {},
   "outputs": [],
   "source": [
    "model4 = LinearRegression()\n",
    "model4.fit(X_train4,y_train4)"
   ]
  },
  {
   "cell_type": "code",
   "execution_count": null,
   "metadata": {},
   "outputs": [],
   "source": [
    "plt.scatter(X_train4, y_train4, color = 'red')\n",
    "plt.plot(X_train4, model4.predict(X_train4), color = 'green')\n",
    "plt.title('Price variation with number of floors')\n",
    "plt.xlabel('Price of the House')\n",
    "plt.ylabel('Number of floors')"
   ]
  },
  {
   "cell_type": "code",
   "execution_count": null,
   "metadata": {},
   "outputs": [],
   "source": [
    "y_pred4 = model4.predict(X_test4)"
   ]
  },
  {
   "cell_type": "code",
   "execution_count": null,
   "metadata": {},
   "outputs": [],
   "source": [
    "plt.scatter(X_test4,y_test4, color = 'green')\n",
    "plt.plot(X_test4,model4.predict(X_test4), color = 'blue')\n",
    "plt.title('Price variation with number of floors')\n",
    "plt.xlabel('Price of the House')\n",
    "plt.ylabel(\"Number of floors\")"
   ]
  },
  {
   "cell_type": "code",
   "execution_count": null,
   "metadata": {},
   "outputs": [],
   "source": [
    "RMSE4 = np.sqrt(mean_squared_error(y_test4, y_pred4))\n",
    "r_square4 = r2_score(y_test4, y_pred4)\n",
    "\n",
    "print(f'The R-Square value is....{r_square4}')\n",
    "print(f'The RMSE value is........{RMSE4}')"
   ]
  },
  {
   "cell_type": "markdown",
   "metadata": {},
   "source": [
    "## NOW FINALLY MULTIPLE REGRESSION."
   ]
  },
  {
   "cell_type": "code",
   "execution_count": null,
   "metadata": {},
   "outputs": [],
   "source": [
    "x = df3.iloc[:,1:5]\n",
    "y = df3.iloc[:,:1]"
   ]
  },
  {
   "cell_type": "code",
   "execution_count": null,
   "metadata": {},
   "outputs": [],
   "source": [
    "X_train5,X_test5,y_train5,y_test5 = train_test_split(x,y,test_size = 0.3,random_state = 3)"
   ]
  },
  {
   "cell_type": "code",
   "execution_count": null,
   "metadata": {},
   "outputs": [],
   "source": [
    "model_mul = LinearRegression(normalize=True)\n",
    "model_mul"
   ]
  },
  {
   "cell_type": "code",
   "execution_count": null,
   "metadata": {},
   "outputs": [],
   "source": [
    "model_mul.fit(X_train5,y_train5)"
   ]
  },
  {
   "cell_type": "code",
   "execution_count": null,
   "metadata": {},
   "outputs": [],
   "source": [
    "y_pred5 = model_mul.predict(X_test5)"
   ]
  },
  {
   "cell_type": "code",
   "execution_count": null,
   "metadata": {},
   "outputs": [],
   "source": [
    "RMSE5 = np.sqrt(mean_squared_error(y_test5, y_pred5))\n",
    "r_square5 = r2_score(y_test5, y_pred5)\n",
    "\n",
    "print(f'The R-Square value is....{r_square5}')\n",
    "print(f'The RMSE value is........{RMSE5}')"
   ]
  },
  {
   "cell_type": "code",
   "execution_count": null,
   "metadata": {},
   "outputs": [],
   "source": [
    "df3.describe().T"
   ]
  }
 ],
 "metadata": {
  "kernelspec": {
   "display_name": "Python 3",
   "language": "python",
   "name": "python3"
  },
  "language_info": {
   "codemirror_mode": {
    "name": "ipython",
    "version": 3
   },
   "file_extension": ".py",
   "mimetype": "text/x-python",
   "name": "python",
   "nbconvert_exporter": "python",
   "pygments_lexer": "ipython3",
   "version": "3.7.2"
  },
  "toc": {
   "base_numbering": 1,
   "nav_menu": {},
   "number_sections": true,
   "sideBar": true,
   "skip_h1_title": true,
   "title_cell": "Table of Contents",
   "title_sidebar": "Contents",
   "toc_cell": false,
   "toc_position": {},
   "toc_section_display": true,
   "toc_window_display": false
  },
  "varInspector": {
   "cols": {
    "lenName": 16,
    "lenType": 16,
    "lenVar": 40
   },
   "kernels_config": {
    "python": {
     "delete_cmd_postfix": "",
     "delete_cmd_prefix": "del ",
     "library": "var_list.py",
     "varRefreshCmd": "print(var_dic_list())"
    },
    "r": {
     "delete_cmd_postfix": ") ",
     "delete_cmd_prefix": "rm(",
     "library": "var_list.r",
     "varRefreshCmd": "cat(var_dic_list()) "
    }
   },
   "types_to_exclude": [
    "module",
    "function",
    "builtin_function_or_method",
    "instance",
    "_Feature"
   ],
   "window_display": false
  }
 },
 "nbformat": 4,
 "nbformat_minor": 4
}
